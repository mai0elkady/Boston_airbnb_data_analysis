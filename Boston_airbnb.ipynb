{
  "nbformat": 4,
  "nbformat_minor": 0,
  "metadata": {
    "colab": {
      "name": "Boston_airbnb.ipynb",
      "provenance": [],
      "authorship_tag": "ABX9TyNuqVa9h3C/134ja8y07tlb",
      "include_colab_link": true
    },
    "kernelspec": {
      "name": "python3",
      "display_name": "Python 3"
    }
  },
  "cells": [
    {
      "cell_type": "markdown",
      "metadata": {
        "id": "view-in-github",
        "colab_type": "text"
      },
      "source": [
        "<a href=\"https://colab.research.google.com/github/mai0elkady/Boston_airbnb_data_analysis/blob/main/Boston_airbnb.ipynb\" target=\"_parent\"><img src=\"https://colab.research.google.com/assets/colab-badge.svg\" alt=\"Open In Colab\"/></a>"
      ]
    },
    {
      "cell_type": "code",
      "metadata": {
        "colab": {
          "base_uri": "https://localhost:8080/"
        },
        "id": "AiLesPp5y3nG",
        "outputId": "0aac7fe1-3b87-419a-bcf5-b6f4db96f8f0"
      },
      "source": [
        "# to access the files I have\r\n",
        "from google.colab import drive\r\n",
        "drive.mount('/content/drive')"
      ],
      "execution_count": 1,
      "outputs": [
        {
          "output_type": "stream",
          "text": [
            "Drive already mounted at /content/drive; to attempt to forcibly remount, call drive.mount(\"/content/drive\", force_remount=True).\n"
          ],
          "name": "stdout"
        }
      ]
    },
    {
      "cell_type": "code",
      "metadata": {
        "id": "EwLO2k7Mz-PE"
      },
      "source": [
        "import numpy as np\r\n",
        "import pandas as pd\r\n",
        "import string \r\n",
        "import seaborn as sns\r\n",
        "from datetime import date\r\n",
        "import matplotlib.pyplot as plt\r\n",
        "%matplotlib inline\r\n",
        "from sklearn.linear_model import Ridge\r\n",
        "from sklearn.model_selection import train_test_split"
      ],
      "execution_count": 2,
      "outputs": []
    },
    {
      "cell_type": "code",
      "metadata": {
        "id": "NZULkriwzKrk"
      },
      "source": [
        "boston_airbnb_data_path = '/content/drive/MyDrive/UdacityND/project1/Boston_Airbnb/'"
      ],
      "execution_count": 3,
      "outputs": []
    },
    {
      "cell_type": "code",
      "metadata": {
        "id": "hU0yD8r5xaHb"
      },
      "source": [
        "calendar = pd.read_csv(boston_airbnb_data_path+'calendar.csv')\r\n",
        "listings = pd.read_csv(boston_airbnb_data_path+'listings.csv')\r\n",
        "reviews = pd.read_csv(boston_airbnb_data_path+'reviews.csv')"
      ],
      "execution_count": 4,
      "outputs": []
    },
    {
      "cell_type": "code",
      "metadata": {
        "colab": {
          "base_uri": "https://localhost:8080/",
          "height": 202
        },
        "id": "gNiEgxbvzoy6",
        "outputId": "afc051c0-b399-44f3-a599-eb08628066b7"
      },
      "source": [
        "calendar.head()"
      ],
      "execution_count": 5,
      "outputs": [
        {
          "output_type": "execute_result",
          "data": {
            "text/html": [
              "<div>\n",
              "<style scoped>\n",
              "    .dataframe tbody tr th:only-of-type {\n",
              "        vertical-align: middle;\n",
              "    }\n",
              "\n",
              "    .dataframe tbody tr th {\n",
              "        vertical-align: top;\n",
              "    }\n",
              "\n",
              "    .dataframe thead th {\n",
              "        text-align: right;\n",
              "    }\n",
              "</style>\n",
              "<table border=\"1\" class=\"dataframe\">\n",
              "  <thead>\n",
              "    <tr style=\"text-align: right;\">\n",
              "      <th></th>\n",
              "      <th>listing_id</th>\n",
              "      <th>date</th>\n",
              "      <th>available</th>\n",
              "      <th>price</th>\n",
              "    </tr>\n",
              "  </thead>\n",
              "  <tbody>\n",
              "    <tr>\n",
              "      <th>0</th>\n",
              "      <td>12147973</td>\n",
              "      <td>2017-09-05</td>\n",
              "      <td>f</td>\n",
              "      <td>NaN</td>\n",
              "    </tr>\n",
              "    <tr>\n",
              "      <th>1</th>\n",
              "      <td>12147973</td>\n",
              "      <td>2017-09-04</td>\n",
              "      <td>f</td>\n",
              "      <td>NaN</td>\n",
              "    </tr>\n",
              "    <tr>\n",
              "      <th>2</th>\n",
              "      <td>12147973</td>\n",
              "      <td>2017-09-03</td>\n",
              "      <td>f</td>\n",
              "      <td>NaN</td>\n",
              "    </tr>\n",
              "    <tr>\n",
              "      <th>3</th>\n",
              "      <td>12147973</td>\n",
              "      <td>2017-09-02</td>\n",
              "      <td>f</td>\n",
              "      <td>NaN</td>\n",
              "    </tr>\n",
              "    <tr>\n",
              "      <th>4</th>\n",
              "      <td>12147973</td>\n",
              "      <td>2017-09-01</td>\n",
              "      <td>f</td>\n",
              "      <td>NaN</td>\n",
              "    </tr>\n",
              "  </tbody>\n",
              "</table>\n",
              "</div>"
            ],
            "text/plain": [
              "   listing_id        date available price\n",
              "0    12147973  2017-09-05         f   NaN\n",
              "1    12147973  2017-09-04         f   NaN\n",
              "2    12147973  2017-09-03         f   NaN\n",
              "3    12147973  2017-09-02         f   NaN\n",
              "4    12147973  2017-09-01         f   NaN"
            ]
          },
          "metadata": {
            "tags": []
          },
          "execution_count": 5
        }
      ]
    },
    {
      "cell_type": "code",
      "metadata": {
        "colab": {
          "base_uri": "https://localhost:8080/",
          "height": 202
        },
        "id": "SXyBFRWP1y95",
        "outputId": "e14ba623-89fd-47b4-ae27-8d10c877607c"
      },
      "source": [
        "reviews.head()"
      ],
      "execution_count": 6,
      "outputs": [
        {
          "output_type": "execute_result",
          "data": {
            "text/html": [
              "<div>\n",
              "<style scoped>\n",
              "    .dataframe tbody tr th:only-of-type {\n",
              "        vertical-align: middle;\n",
              "    }\n",
              "\n",
              "    .dataframe tbody tr th {\n",
              "        vertical-align: top;\n",
              "    }\n",
              "\n",
              "    .dataframe thead th {\n",
              "        text-align: right;\n",
              "    }\n",
              "</style>\n",
              "<table border=\"1\" class=\"dataframe\">\n",
              "  <thead>\n",
              "    <tr style=\"text-align: right;\">\n",
              "      <th></th>\n",
              "      <th>listing_id</th>\n",
              "      <th>id</th>\n",
              "      <th>date</th>\n",
              "      <th>reviewer_id</th>\n",
              "      <th>reviewer_name</th>\n",
              "      <th>comments</th>\n",
              "    </tr>\n",
              "  </thead>\n",
              "  <tbody>\n",
              "    <tr>\n",
              "      <th>0</th>\n",
              "      <td>1178162</td>\n",
              "      <td>4724140</td>\n",
              "      <td>2013-05-21</td>\n",
              "      <td>4298113</td>\n",
              "      <td>Olivier</td>\n",
              "      <td>My stay at islam's place was really cool! Good...</td>\n",
              "    </tr>\n",
              "    <tr>\n",
              "      <th>1</th>\n",
              "      <td>1178162</td>\n",
              "      <td>4869189</td>\n",
              "      <td>2013-05-29</td>\n",
              "      <td>6452964</td>\n",
              "      <td>Charlotte</td>\n",
              "      <td>Great location for both airport and city - gre...</td>\n",
              "    </tr>\n",
              "    <tr>\n",
              "      <th>2</th>\n",
              "      <td>1178162</td>\n",
              "      <td>5003196</td>\n",
              "      <td>2013-06-06</td>\n",
              "      <td>6449554</td>\n",
              "      <td>Sebastian</td>\n",
              "      <td>We really enjoyed our stay at Islams house. Fr...</td>\n",
              "    </tr>\n",
              "    <tr>\n",
              "      <th>3</th>\n",
              "      <td>1178162</td>\n",
              "      <td>5150351</td>\n",
              "      <td>2013-06-15</td>\n",
              "      <td>2215611</td>\n",
              "      <td>Marine</td>\n",
              "      <td>The room was nice and clean and so were the co...</td>\n",
              "    </tr>\n",
              "    <tr>\n",
              "      <th>4</th>\n",
              "      <td>1178162</td>\n",
              "      <td>5171140</td>\n",
              "      <td>2013-06-16</td>\n",
              "      <td>6848427</td>\n",
              "      <td>Andrew</td>\n",
              "      <td>Great location. Just 5 mins walk from the Airp...</td>\n",
              "    </tr>\n",
              "  </tbody>\n",
              "</table>\n",
              "</div>"
            ],
            "text/plain": [
              "   listing_id  ...                                           comments\n",
              "0     1178162  ...  My stay at islam's place was really cool! Good...\n",
              "1     1178162  ...  Great location for both airport and city - gre...\n",
              "2     1178162  ...  We really enjoyed our stay at Islams house. Fr...\n",
              "3     1178162  ...  The room was nice and clean and so were the co...\n",
              "4     1178162  ...  Great location. Just 5 mins walk from the Airp...\n",
              "\n",
              "[5 rows x 6 columns]"
            ]
          },
          "metadata": {
            "tags": []
          },
          "execution_count": 6
        }
      ]
    },
    {
      "cell_type": "code",
      "metadata": {
        "colab": {
          "base_uri": "https://localhost:8080/",
          "height": 771
        },
        "id": "5UMKcALp6aIP",
        "outputId": "14648cfa-e462-454a-88e7-2eb1a3e1bb39"
      },
      "source": [
        "listings.head()"
      ],
      "execution_count": 7,
      "outputs": [
        {
          "output_type": "execute_result",
          "data": {
            "text/html": [
              "<div>\n",
              "<style scoped>\n",
              "    .dataframe tbody tr th:only-of-type {\n",
              "        vertical-align: middle;\n",
              "    }\n",
              "\n",
              "    .dataframe tbody tr th {\n",
              "        vertical-align: top;\n",
              "    }\n",
              "\n",
              "    .dataframe thead th {\n",
              "        text-align: right;\n",
              "    }\n",
              "</style>\n",
              "<table border=\"1\" class=\"dataframe\">\n",
              "  <thead>\n",
              "    <tr style=\"text-align: right;\">\n",
              "      <th></th>\n",
              "      <th>id</th>\n",
              "      <th>listing_url</th>\n",
              "      <th>scrape_id</th>\n",
              "      <th>last_scraped</th>\n",
              "      <th>name</th>\n",
              "      <th>summary</th>\n",
              "      <th>space</th>\n",
              "      <th>description</th>\n",
              "      <th>experiences_offered</th>\n",
              "      <th>neighborhood_overview</th>\n",
              "      <th>notes</th>\n",
              "      <th>transit</th>\n",
              "      <th>access</th>\n",
              "      <th>interaction</th>\n",
              "      <th>house_rules</th>\n",
              "      <th>thumbnail_url</th>\n",
              "      <th>medium_url</th>\n",
              "      <th>picture_url</th>\n",
              "      <th>xl_picture_url</th>\n",
              "      <th>host_id</th>\n",
              "      <th>host_url</th>\n",
              "      <th>host_name</th>\n",
              "      <th>host_since</th>\n",
              "      <th>host_location</th>\n",
              "      <th>host_about</th>\n",
              "      <th>host_response_time</th>\n",
              "      <th>host_response_rate</th>\n",
              "      <th>host_acceptance_rate</th>\n",
              "      <th>host_is_superhost</th>\n",
              "      <th>host_thumbnail_url</th>\n",
              "      <th>host_picture_url</th>\n",
              "      <th>host_neighbourhood</th>\n",
              "      <th>host_listings_count</th>\n",
              "      <th>host_total_listings_count</th>\n",
              "      <th>host_verifications</th>\n",
              "      <th>host_has_profile_pic</th>\n",
              "      <th>host_identity_verified</th>\n",
              "      <th>street</th>\n",
              "      <th>neighbourhood</th>\n",
              "      <th>neighbourhood_cleansed</th>\n",
              "      <th>...</th>\n",
              "      <th>bedrooms</th>\n",
              "      <th>beds</th>\n",
              "      <th>bed_type</th>\n",
              "      <th>amenities</th>\n",
              "      <th>square_feet</th>\n",
              "      <th>price</th>\n",
              "      <th>weekly_price</th>\n",
              "      <th>monthly_price</th>\n",
              "      <th>security_deposit</th>\n",
              "      <th>cleaning_fee</th>\n",
              "      <th>guests_included</th>\n",
              "      <th>extra_people</th>\n",
              "      <th>minimum_nights</th>\n",
              "      <th>maximum_nights</th>\n",
              "      <th>calendar_updated</th>\n",
              "      <th>has_availability</th>\n",
              "      <th>availability_30</th>\n",
              "      <th>availability_60</th>\n",
              "      <th>availability_90</th>\n",
              "      <th>availability_365</th>\n",
              "      <th>calendar_last_scraped</th>\n",
              "      <th>number_of_reviews</th>\n",
              "      <th>first_review</th>\n",
              "      <th>last_review</th>\n",
              "      <th>review_scores_rating</th>\n",
              "      <th>review_scores_accuracy</th>\n",
              "      <th>review_scores_cleanliness</th>\n",
              "      <th>review_scores_checkin</th>\n",
              "      <th>review_scores_communication</th>\n",
              "      <th>review_scores_location</th>\n",
              "      <th>review_scores_value</th>\n",
              "      <th>requires_license</th>\n",
              "      <th>license</th>\n",
              "      <th>jurisdiction_names</th>\n",
              "      <th>instant_bookable</th>\n",
              "      <th>cancellation_policy</th>\n",
              "      <th>require_guest_profile_picture</th>\n",
              "      <th>require_guest_phone_verification</th>\n",
              "      <th>calculated_host_listings_count</th>\n",
              "      <th>reviews_per_month</th>\n",
              "    </tr>\n",
              "  </thead>\n",
              "  <tbody>\n",
              "    <tr>\n",
              "      <th>0</th>\n",
              "      <td>12147973</td>\n",
              "      <td>https://www.airbnb.com/rooms/12147973</td>\n",
              "      <td>20160906204935</td>\n",
              "      <td>2016-09-07</td>\n",
              "      <td>Sunny Bungalow in the City</td>\n",
              "      <td>Cozy, sunny, family home.  Master bedroom high...</td>\n",
              "      <td>The house has an open and cozy feel at the sam...</td>\n",
              "      <td>Cozy, sunny, family home.  Master bedroom high...</td>\n",
              "      <td>none</td>\n",
              "      <td>Roslindale is quiet, convenient and friendly. ...</td>\n",
              "      <td>NaN</td>\n",
              "      <td>The bus stop is 2 blocks away, and frequent. B...</td>\n",
              "      <td>You will have access to 2 bedrooms, a living r...</td>\n",
              "      <td>NaN</td>\n",
              "      <td>Clean up and treat the home the way you'd like...</td>\n",
              "      <td>https://a2.muscache.com/im/pictures/c0842db1-e...</td>\n",
              "      <td>https://a2.muscache.com/im/pictures/c0842db1-e...</td>\n",
              "      <td>https://a2.muscache.com/im/pictures/c0842db1-e...</td>\n",
              "      <td>https://a2.muscache.com/im/pictures/c0842db1-e...</td>\n",
              "      <td>31303940</td>\n",
              "      <td>https://www.airbnb.com/users/show/31303940</td>\n",
              "      <td>Virginia</td>\n",
              "      <td>2015-04-15</td>\n",
              "      <td>Boston, Massachusetts, United States</td>\n",
              "      <td>We are country and city connecting in our deck...</td>\n",
              "      <td>NaN</td>\n",
              "      <td>NaN</td>\n",
              "      <td>NaN</td>\n",
              "      <td>f</td>\n",
              "      <td>https://a2.muscache.com/im/pictures/5936fef0-b...</td>\n",
              "      <td>https://a2.muscache.com/im/pictures/5936fef0-b...</td>\n",
              "      <td>Roslindale</td>\n",
              "      <td>1</td>\n",
              "      <td>1</td>\n",
              "      <td>['email', 'phone', 'facebook', 'reviews']</td>\n",
              "      <td>t</td>\n",
              "      <td>f</td>\n",
              "      <td>Birch Street, Boston, MA 02131, United States</td>\n",
              "      <td>Roslindale</td>\n",
              "      <td>Roslindale</td>\n",
              "      <td>...</td>\n",
              "      <td>2.0</td>\n",
              "      <td>3.0</td>\n",
              "      <td>Real Bed</td>\n",
              "      <td>{TV,\"Wireless Internet\",Kitchen,\"Free Parking ...</td>\n",
              "      <td>NaN</td>\n",
              "      <td>$250.00</td>\n",
              "      <td>NaN</td>\n",
              "      <td>NaN</td>\n",
              "      <td>NaN</td>\n",
              "      <td>$35.00</td>\n",
              "      <td>1</td>\n",
              "      <td>$0.00</td>\n",
              "      <td>2</td>\n",
              "      <td>1125</td>\n",
              "      <td>2 weeks ago</td>\n",
              "      <td>NaN</td>\n",
              "      <td>0</td>\n",
              "      <td>0</td>\n",
              "      <td>0</td>\n",
              "      <td>0</td>\n",
              "      <td>2016-09-06</td>\n",
              "      <td>0</td>\n",
              "      <td>NaN</td>\n",
              "      <td>NaN</td>\n",
              "      <td>NaN</td>\n",
              "      <td>NaN</td>\n",
              "      <td>NaN</td>\n",
              "      <td>NaN</td>\n",
              "      <td>NaN</td>\n",
              "      <td>NaN</td>\n",
              "      <td>NaN</td>\n",
              "      <td>f</td>\n",
              "      <td>NaN</td>\n",
              "      <td>NaN</td>\n",
              "      <td>f</td>\n",
              "      <td>moderate</td>\n",
              "      <td>f</td>\n",
              "      <td>f</td>\n",
              "      <td>1</td>\n",
              "      <td>NaN</td>\n",
              "    </tr>\n",
              "    <tr>\n",
              "      <th>1</th>\n",
              "      <td>3075044</td>\n",
              "      <td>https://www.airbnb.com/rooms/3075044</td>\n",
              "      <td>20160906204935</td>\n",
              "      <td>2016-09-07</td>\n",
              "      <td>Charming room in pet friendly apt</td>\n",
              "      <td>Charming and quiet room in a second floor 1910...</td>\n",
              "      <td>Small but cozy and quite room with a full size...</td>\n",
              "      <td>Charming and quiet room in a second floor 1910...</td>\n",
              "      <td>none</td>\n",
              "      <td>The room is in Roslindale, a diverse and prima...</td>\n",
              "      <td>If you don't have a US cell phone, you can tex...</td>\n",
              "      <td>Plenty of safe street parking. Bus stops a few...</td>\n",
              "      <td>Apt has one more bedroom (which I use) and lar...</td>\n",
              "      <td>If I am at home, I am likely working in my hom...</td>\n",
              "      <td>Pet friendly but please confirm with me if the...</td>\n",
              "      <td>https://a1.muscache.com/im/pictures/39327812/d...</td>\n",
              "      <td>https://a1.muscache.com/im/pictures/39327812/d...</td>\n",
              "      <td>https://a1.muscache.com/im/pictures/39327812/d...</td>\n",
              "      <td>https://a1.muscache.com/im/pictures/39327812/d...</td>\n",
              "      <td>2572247</td>\n",
              "      <td>https://www.airbnb.com/users/show/2572247</td>\n",
              "      <td>Andrea</td>\n",
              "      <td>2012-06-07</td>\n",
              "      <td>Boston, Massachusetts, United States</td>\n",
              "      <td>I live in Boston and I like to travel and have...</td>\n",
              "      <td>within an hour</td>\n",
              "      <td>100%</td>\n",
              "      <td>100%</td>\n",
              "      <td>f</td>\n",
              "      <td>https://a2.muscache.com/im/users/2572247/profi...</td>\n",
              "      <td>https://a2.muscache.com/im/users/2572247/profi...</td>\n",
              "      <td>Roslindale</td>\n",
              "      <td>1</td>\n",
              "      <td>1</td>\n",
              "      <td>['email', 'phone', 'facebook', 'linkedin', 'am...</td>\n",
              "      <td>t</td>\n",
              "      <td>t</td>\n",
              "      <td>Pinehurst Street, Boston, MA 02131, United States</td>\n",
              "      <td>Roslindale</td>\n",
              "      <td>Roslindale</td>\n",
              "      <td>...</td>\n",
              "      <td>1.0</td>\n",
              "      <td>1.0</td>\n",
              "      <td>Real Bed</td>\n",
              "      <td>{TV,Internet,\"Wireless Internet\",\"Air Conditio...</td>\n",
              "      <td>NaN</td>\n",
              "      <td>$65.00</td>\n",
              "      <td>$400.00</td>\n",
              "      <td>NaN</td>\n",
              "      <td>$95.00</td>\n",
              "      <td>$10.00</td>\n",
              "      <td>0</td>\n",
              "      <td>$0.00</td>\n",
              "      <td>2</td>\n",
              "      <td>15</td>\n",
              "      <td>a week ago</td>\n",
              "      <td>NaN</td>\n",
              "      <td>26</td>\n",
              "      <td>54</td>\n",
              "      <td>84</td>\n",
              "      <td>359</td>\n",
              "      <td>2016-09-06</td>\n",
              "      <td>36</td>\n",
              "      <td>2014-06-01</td>\n",
              "      <td>2016-08-13</td>\n",
              "      <td>94.0</td>\n",
              "      <td>10.0</td>\n",
              "      <td>9.0</td>\n",
              "      <td>10.0</td>\n",
              "      <td>10.0</td>\n",
              "      <td>9.0</td>\n",
              "      <td>9.0</td>\n",
              "      <td>f</td>\n",
              "      <td>NaN</td>\n",
              "      <td>NaN</td>\n",
              "      <td>t</td>\n",
              "      <td>moderate</td>\n",
              "      <td>f</td>\n",
              "      <td>f</td>\n",
              "      <td>1</td>\n",
              "      <td>1.30</td>\n",
              "    </tr>\n",
              "    <tr>\n",
              "      <th>2</th>\n",
              "      <td>6976</td>\n",
              "      <td>https://www.airbnb.com/rooms/6976</td>\n",
              "      <td>20160906204935</td>\n",
              "      <td>2016-09-07</td>\n",
              "      <td>Mexican Folk Art Haven in Boston</td>\n",
              "      <td>Come stay with a friendly, middle-aged guy in ...</td>\n",
              "      <td>Come stay with a friendly, middle-aged guy in ...</td>\n",
              "      <td>Come stay with a friendly, middle-aged guy in ...</td>\n",
              "      <td>none</td>\n",
              "      <td>The LOCATION: Roslindale is a safe and diverse...</td>\n",
              "      <td>I am in a scenic part of Boston with a couple ...</td>\n",
              "      <td>PUBLIC TRANSPORTATION: From the house, quick p...</td>\n",
              "      <td>I am living in the apartment during your stay,...</td>\n",
              "      <td>ABOUT ME: I'm a laid-back, friendly, unmarried...</td>\n",
              "      <td>I encourage you to use my kitchen, cooking and...</td>\n",
              "      <td>https://a2.muscache.com/im/pictures/6ae8335d-9...</td>\n",
              "      <td>https://a2.muscache.com/im/pictures/6ae8335d-9...</td>\n",
              "      <td>https://a2.muscache.com/im/pictures/6ae8335d-9...</td>\n",
              "      <td>https://a2.muscache.com/im/pictures/6ae8335d-9...</td>\n",
              "      <td>16701</td>\n",
              "      <td>https://www.airbnb.com/users/show/16701</td>\n",
              "      <td>Phil</td>\n",
              "      <td>2009-05-11</td>\n",
              "      <td>Boston, Massachusetts, United States</td>\n",
              "      <td>I am a middle-aged, single male with a wide ra...</td>\n",
              "      <td>within a few hours</td>\n",
              "      <td>100%</td>\n",
              "      <td>88%</td>\n",
              "      <td>t</td>\n",
              "      <td>https://a2.muscache.com/im/users/16701/profile...</td>\n",
              "      <td>https://a2.muscache.com/im/users/16701/profile...</td>\n",
              "      <td>Roslindale</td>\n",
              "      <td>1</td>\n",
              "      <td>1</td>\n",
              "      <td>['email', 'phone', 'reviews', 'jumio']</td>\n",
              "      <td>t</td>\n",
              "      <td>t</td>\n",
              "      <td>Ardale St., Boston, MA 02131, United States</td>\n",
              "      <td>Roslindale</td>\n",
              "      <td>Roslindale</td>\n",
              "      <td>...</td>\n",
              "      <td>1.0</td>\n",
              "      <td>1.0</td>\n",
              "      <td>Real Bed</td>\n",
              "      <td>{TV,\"Cable TV\",\"Wireless Internet\",\"Air Condit...</td>\n",
              "      <td>NaN</td>\n",
              "      <td>$65.00</td>\n",
              "      <td>$395.00</td>\n",
              "      <td>$1,350.00</td>\n",
              "      <td>NaN</td>\n",
              "      <td>NaN</td>\n",
              "      <td>1</td>\n",
              "      <td>$20.00</td>\n",
              "      <td>3</td>\n",
              "      <td>45</td>\n",
              "      <td>5 days ago</td>\n",
              "      <td>NaN</td>\n",
              "      <td>19</td>\n",
              "      <td>46</td>\n",
              "      <td>61</td>\n",
              "      <td>319</td>\n",
              "      <td>2016-09-06</td>\n",
              "      <td>41</td>\n",
              "      <td>2009-07-19</td>\n",
              "      <td>2016-08-05</td>\n",
              "      <td>98.0</td>\n",
              "      <td>10.0</td>\n",
              "      <td>9.0</td>\n",
              "      <td>10.0</td>\n",
              "      <td>10.0</td>\n",
              "      <td>9.0</td>\n",
              "      <td>10.0</td>\n",
              "      <td>f</td>\n",
              "      <td>NaN</td>\n",
              "      <td>NaN</td>\n",
              "      <td>f</td>\n",
              "      <td>moderate</td>\n",
              "      <td>t</td>\n",
              "      <td>f</td>\n",
              "      <td>1</td>\n",
              "      <td>0.47</td>\n",
              "    </tr>\n",
              "    <tr>\n",
              "      <th>3</th>\n",
              "      <td>1436513</td>\n",
              "      <td>https://www.airbnb.com/rooms/1436513</td>\n",
              "      <td>20160906204935</td>\n",
              "      <td>2016-09-07</td>\n",
              "      <td>Spacious Sunny Bedroom Suite in Historic Home</td>\n",
              "      <td>Come experience the comforts of home away from...</td>\n",
              "      <td>Most places you find in Boston are small howev...</td>\n",
              "      <td>Come experience the comforts of home away from...</td>\n",
              "      <td>none</td>\n",
              "      <td>Roslindale is a lovely little neighborhood loc...</td>\n",
              "      <td>Please be mindful of the property as it is old...</td>\n",
              "      <td>There are buses that stop right in front of th...</td>\n",
              "      <td>The basement has a washer dryer and gym area. ...</td>\n",
              "      <td>We do live in the house therefore might be som...</td>\n",
              "      <td>- The bathroom and house are shared so please ...</td>\n",
              "      <td>https://a2.muscache.com/im/pictures/39764190-1...</td>\n",
              "      <td>https://a2.muscache.com/im/pictures/39764190-1...</td>\n",
              "      <td>https://a2.muscache.com/im/pictures/39764190-1...</td>\n",
              "      <td>https://a2.muscache.com/im/pictures/39764190-1...</td>\n",
              "      <td>6031442</td>\n",
              "      <td>https://www.airbnb.com/users/show/6031442</td>\n",
              "      <td>Meghna</td>\n",
              "      <td>2013-04-21</td>\n",
              "      <td>Boston, Massachusetts, United States</td>\n",
              "      <td>My husband and I live on the property.  He’s a...</td>\n",
              "      <td>within a few hours</td>\n",
              "      <td>100%</td>\n",
              "      <td>50%</td>\n",
              "      <td>f</td>\n",
              "      <td>https://a2.muscache.com/im/pictures/5d430cde-7...</td>\n",
              "      <td>https://a2.muscache.com/im/pictures/5d430cde-7...</td>\n",
              "      <td>NaN</td>\n",
              "      <td>1</td>\n",
              "      <td>1</td>\n",
              "      <td>['email', 'phone', 'reviews']</td>\n",
              "      <td>t</td>\n",
              "      <td>f</td>\n",
              "      <td>Boston, MA, United States</td>\n",
              "      <td>NaN</td>\n",
              "      <td>Roslindale</td>\n",
              "      <td>...</td>\n",
              "      <td>1.0</td>\n",
              "      <td>2.0</td>\n",
              "      <td>Real Bed</td>\n",
              "      <td>{TV,Internet,\"Wireless Internet\",\"Air Conditio...</td>\n",
              "      <td>NaN</td>\n",
              "      <td>$75.00</td>\n",
              "      <td>NaN</td>\n",
              "      <td>NaN</td>\n",
              "      <td>$100.00</td>\n",
              "      <td>$50.00</td>\n",
              "      <td>2</td>\n",
              "      <td>$25.00</td>\n",
              "      <td>1</td>\n",
              "      <td>1125</td>\n",
              "      <td>a week ago</td>\n",
              "      <td>NaN</td>\n",
              "      <td>6</td>\n",
              "      <td>16</td>\n",
              "      <td>26</td>\n",
              "      <td>98</td>\n",
              "      <td>2016-09-06</td>\n",
              "      <td>1</td>\n",
              "      <td>2016-08-28</td>\n",
              "      <td>2016-08-28</td>\n",
              "      <td>100.0</td>\n",
              "      <td>10.0</td>\n",
              "      <td>10.0</td>\n",
              "      <td>10.0</td>\n",
              "      <td>10.0</td>\n",
              "      <td>10.0</td>\n",
              "      <td>10.0</td>\n",
              "      <td>f</td>\n",
              "      <td>NaN</td>\n",
              "      <td>NaN</td>\n",
              "      <td>f</td>\n",
              "      <td>moderate</td>\n",
              "      <td>f</td>\n",
              "      <td>f</td>\n",
              "      <td>1</td>\n",
              "      <td>1.00</td>\n",
              "    </tr>\n",
              "    <tr>\n",
              "      <th>4</th>\n",
              "      <td>7651065</td>\n",
              "      <td>https://www.airbnb.com/rooms/7651065</td>\n",
              "      <td>20160906204935</td>\n",
              "      <td>2016-09-07</td>\n",
              "      <td>Come Home to Boston</td>\n",
              "      <td>My comfy, clean and relaxing home is one block...</td>\n",
              "      <td>Clean, attractive, private room, one block fro...</td>\n",
              "      <td>My comfy, clean and relaxing home is one block...</td>\n",
              "      <td>none</td>\n",
              "      <td>I love the proximity to downtown, the neighbor...</td>\n",
              "      <td>I have one roommate who lives on the lower lev...</td>\n",
              "      <td>From Logan Airport  and South Station you have...</td>\n",
              "      <td>You will have access to the front and side por...</td>\n",
              "      <td>I love my city and really enjoy sharing it wit...</td>\n",
              "      <td>Please no smoking in the house, porch or on th...</td>\n",
              "      <td>https://a1.muscache.com/im/pictures/97154760/8...</td>\n",
              "      <td>https://a1.muscache.com/im/pictures/97154760/8...</td>\n",
              "      <td>https://a1.muscache.com/im/pictures/97154760/8...</td>\n",
              "      <td>https://a1.muscache.com/im/pictures/97154760/8...</td>\n",
              "      <td>15396970</td>\n",
              "      <td>https://www.airbnb.com/users/show/15396970</td>\n",
              "      <td>Linda</td>\n",
              "      <td>2014-05-11</td>\n",
              "      <td>Boston, Massachusetts, United States</td>\n",
              "      <td>I work full time for a public school district....</td>\n",
              "      <td>within an hour</td>\n",
              "      <td>100%</td>\n",
              "      <td>100%</td>\n",
              "      <td>t</td>\n",
              "      <td>https://a0.muscache.com/im/users/15396970/prof...</td>\n",
              "      <td>https://a0.muscache.com/im/users/15396970/prof...</td>\n",
              "      <td>Roslindale</td>\n",
              "      <td>1</td>\n",
              "      <td>1</td>\n",
              "      <td>['email', 'phone', 'reviews', 'kba']</td>\n",
              "      <td>t</td>\n",
              "      <td>t</td>\n",
              "      <td>Durnell Avenue, Boston, MA 02131, United States</td>\n",
              "      <td>Roslindale</td>\n",
              "      <td>Roslindale</td>\n",
              "      <td>...</td>\n",
              "      <td>1.0</td>\n",
              "      <td>2.0</td>\n",
              "      <td>Real Bed</td>\n",
              "      <td>{Internet,\"Wireless Internet\",\"Air Conditionin...</td>\n",
              "      <td>NaN</td>\n",
              "      <td>$79.00</td>\n",
              "      <td>NaN</td>\n",
              "      <td>NaN</td>\n",
              "      <td>NaN</td>\n",
              "      <td>$15.00</td>\n",
              "      <td>1</td>\n",
              "      <td>$0.00</td>\n",
              "      <td>2</td>\n",
              "      <td>31</td>\n",
              "      <td>2 weeks ago</td>\n",
              "      <td>NaN</td>\n",
              "      <td>13</td>\n",
              "      <td>34</td>\n",
              "      <td>59</td>\n",
              "      <td>334</td>\n",
              "      <td>2016-09-06</td>\n",
              "      <td>29</td>\n",
              "      <td>2015-08-18</td>\n",
              "      <td>2016-09-01</td>\n",
              "      <td>99.0</td>\n",
              "      <td>10.0</td>\n",
              "      <td>10.0</td>\n",
              "      <td>10.0</td>\n",
              "      <td>10.0</td>\n",
              "      <td>9.0</td>\n",
              "      <td>10.0</td>\n",
              "      <td>f</td>\n",
              "      <td>NaN</td>\n",
              "      <td>NaN</td>\n",
              "      <td>f</td>\n",
              "      <td>flexible</td>\n",
              "      <td>f</td>\n",
              "      <td>f</td>\n",
              "      <td>1</td>\n",
              "      <td>2.25</td>\n",
              "    </tr>\n",
              "  </tbody>\n",
              "</table>\n",
              "<p>5 rows × 95 columns</p>\n",
              "</div>"
            ],
            "text/plain": [
              "         id  ... reviews_per_month\n",
              "0  12147973  ...               NaN\n",
              "1   3075044  ...              1.30\n",
              "2      6976  ...              0.47\n",
              "3   1436513  ...              1.00\n",
              "4   7651065  ...              2.25\n",
              "\n",
              "[5 rows x 95 columns]"
            ]
          },
          "metadata": {
            "tags": []
          },
          "execution_count": 7
        }
      ]
    },
    {
      "cell_type": "code",
      "metadata": {
        "colab": {
          "base_uri": "https://localhost:8080/"
        },
        "id": "haekhO250zxD",
        "outputId": "3540f56c-cdd2-428c-dcc6-bba0c61b290c"
      },
      "source": [
        "print(listings.columns)\r\n",
        "#drop the coloumns below, either because they're not useful in our case, or will be correlated with other variables\r\n",
        "smaller_listings = listings.drop(['zipcode','listing_url', 'scrape_id', 'last_scraped', 'name', 'summary','description', 'experiences_offered', 'neighborhood_overview',\r\n",
        "       'notes','transit','access','interaction', 'house_rules',\r\n",
        "       'thumbnail_url', 'medium_url', 'picture_url', 'xl_picture_url',\r\n",
        "       'host_id', 'host_url', 'host_name','host_location','host_picture_url', 'host_neighbourhood', 'host_verifications',\r\n",
        "       'neighbourhood_group_cleansed', 'market',\r\n",
        "       'smart_location', 'country_code', 'country', 'latitude', 'longitude',\r\n",
        "       'is_location_exact','calendar_updated', 'has_availability',\r\n",
        "       'availability_30', 'availability_60', 'availability_90',\r\n",
        "       'availability_365', 'calendar_last_scraped','first_review', 'last_review', \r\n",
        "       'requires_license',\r\n",
        "       'license', 'jurisdiction_names','calculated_host_listings_count','space', 'host_about','host_thumbnail_url','street'\r\n",
        "       ,'weekly_price','monthly_price','cleaning_fee','square_feet','security_deposit','extra_people','city','state',\r\n",
        "       'id','host_listings_count','neighbourhood_cleansed','reviews_per_month','review_scores_rating',\r\n",
        "       'review_scores_accuracy', 'review_scores_cleanliness',\r\n",
        "       'review_scores_checkin', 'review_scores_communication',\r\n",
        "       'review_scores_location'],axis = 1)"
      ],
      "execution_count": 8,
      "outputs": [
        {
          "output_type": "stream",
          "text": [
            "Index(['id', 'listing_url', 'scrape_id', 'last_scraped', 'name', 'summary',\n",
            "       'space', 'description', 'experiences_offered', 'neighborhood_overview',\n",
            "       'notes', 'transit', 'access', 'interaction', 'house_rules',\n",
            "       'thumbnail_url', 'medium_url', 'picture_url', 'xl_picture_url',\n",
            "       'host_id', 'host_url', 'host_name', 'host_since', 'host_location',\n",
            "       'host_about', 'host_response_time', 'host_response_rate',\n",
            "       'host_acceptance_rate', 'host_is_superhost', 'host_thumbnail_url',\n",
            "       'host_picture_url', 'host_neighbourhood', 'host_listings_count',\n",
            "       'host_total_listings_count', 'host_verifications',\n",
            "       'host_has_profile_pic', 'host_identity_verified', 'street',\n",
            "       'neighbourhood', 'neighbourhood_cleansed',\n",
            "       'neighbourhood_group_cleansed', 'city', 'state', 'zipcode', 'market',\n",
            "       'smart_location', 'country_code', 'country', 'latitude', 'longitude',\n",
            "       'is_location_exact', 'property_type', 'room_type', 'accommodates',\n",
            "       'bathrooms', 'bedrooms', 'beds', 'bed_type', 'amenities', 'square_feet',\n",
            "       'price', 'weekly_price', 'monthly_price', 'security_deposit',\n",
            "       'cleaning_fee', 'guests_included', 'extra_people', 'minimum_nights',\n",
            "       'maximum_nights', 'calendar_updated', 'has_availability',\n",
            "       'availability_30', 'availability_60', 'availability_90',\n",
            "       'availability_365', 'calendar_last_scraped', 'number_of_reviews',\n",
            "       'first_review', 'last_review', 'review_scores_rating',\n",
            "       'review_scores_accuracy', 'review_scores_cleanliness',\n",
            "       'review_scores_checkin', 'review_scores_communication',\n",
            "       'review_scores_location', 'review_scores_value', 'requires_license',\n",
            "       'license', 'jurisdiction_names', 'instant_bookable',\n",
            "       'cancellation_policy', 'require_guest_profile_picture',\n",
            "       'require_guest_phone_verification', 'calculated_host_listings_count',\n",
            "       'reviews_per_month'],\n",
            "      dtype='object')\n"
          ],
          "name": "stdout"
        }
      ]
    },
    {
      "cell_type": "code",
      "metadata": {
        "id": "t9rqUHG95CFW"
      },
      "source": [
        "#drop rows with missing price\r\n",
        "listings = listings.dropna(subset=['price'], axis=0)\r\n",
        "#drop coloumns with more than 30% missing values\r\n",
        "more_than_30 = listings.columns[listings.isnull().mean() > 0.3]\r\n",
        "listings = listings.drop(more_than_30, axis=1)"
      ],
      "execution_count": 9,
      "outputs": []
    },
    {
      "cell_type": "code",
      "metadata": {
        "colab": {
          "base_uri": "https://localhost:8080/",
          "height": 520
        },
        "id": "7wC-a1eVZG8m",
        "outputId": "59063559-26f0-4326-8138-7d0248ce1c9f"
      },
      "source": [
        "pd.set_option('display.max_rows', None)\r\n",
        "print(\"percent of missing values in each coloumn in listings\")\r\n",
        "display(smaller_listings.isnull().mean())\r\n",
        "pd.set_option('display.max_rows', 10)"
      ],
      "execution_count": 10,
      "outputs": [
        {
          "output_type": "stream",
          "text": [
            "percent of missing values in each coloumn in listings\n"
          ],
          "name": "stdout"
        },
        {
          "output_type": "display_data",
          "data": {
            "text/plain": [
              "host_since                          0.000000\n",
              "host_response_time                  0.131381\n",
              "host_response_rate                  0.131381\n",
              "host_acceptance_rate                0.131381\n",
              "host_is_superhost                   0.000000\n",
              "host_total_listings_count           0.000000\n",
              "host_has_profile_pic                0.000000\n",
              "host_identity_verified              0.000000\n",
              "neighbourhood                       0.151464\n",
              "property_type                       0.000837\n",
              "room_type                           0.000000\n",
              "accommodates                        0.000000\n",
              "bathrooms                           0.003905\n",
              "bedrooms                            0.002789\n",
              "beds                                0.002510\n",
              "bed_type                            0.000000\n",
              "amenities                           0.000000\n",
              "price                               0.000000\n",
              "guests_included                     0.000000\n",
              "minimum_nights                      0.000000\n",
              "maximum_nights                      0.000000\n",
              "number_of_reviews                   0.000000\n",
              "review_scores_value                 0.229010\n",
              "instant_bookable                    0.000000\n",
              "cancellation_policy                 0.000000\n",
              "require_guest_profile_picture       0.000000\n",
              "require_guest_phone_verification    0.000000\n",
              "dtype: float64"
            ]
          },
          "metadata": {
            "tags": []
          }
        }
      ]
    },
    {
      "cell_type": "code",
      "metadata": {
        "colab": {
          "base_uri": "https://localhost:8080/"
        },
        "id": "RYtKa1oYbMog",
        "outputId": "2883eca1-4e44-4a67-8418-627e5c21123f"
      },
      "source": [
        "smaller_listings.dtypes"
      ],
      "execution_count": 11,
      "outputs": [
        {
          "output_type": "execute_result",
          "data": {
            "text/plain": [
              "host_since                           object\n",
              "host_response_time                   object\n",
              "host_response_rate                   object\n",
              "host_acceptance_rate                 object\n",
              "host_is_superhost                    object\n",
              "                                     ...   \n",
              "review_scores_value                 float64\n",
              "instant_bookable                     object\n",
              "cancellation_policy                  object\n",
              "require_guest_profile_picture        object\n",
              "require_guest_phone_verification     object\n",
              "Length: 27, dtype: object"
            ]
          },
          "metadata": {
            "tags": []
          },
          "execution_count": 11
        }
      ]
    },
    {
      "cell_type": "code",
      "metadata": {
        "colab": {
          "base_uri": "https://localhost:8080/"
        },
        "id": "Jiw6S9uQDCyQ",
        "outputId": "0dd076ff-52ec-4748-f0d9-6d96e150570a"
      },
      "source": [
        "smaller_listings['price']"
      ],
      "execution_count": 12,
      "outputs": [
        {
          "output_type": "execute_result",
          "data": {
            "text/plain": [
              "0       $250.00\n",
              "1        $65.00\n",
              "2        $65.00\n",
              "3        $75.00\n",
              "4        $79.00\n",
              "         ...   \n",
              "3580     $69.00\n",
              "3581    $150.00\n",
              "3582    $198.00\n",
              "3583     $65.00\n",
              "3584     $65.00\n",
              "Name: price, Length: 3585, dtype: object"
            ]
          },
          "metadata": {
            "tags": []
          },
          "execution_count": 12
        }
      ]
    },
    {
      "cell_type": "code",
      "metadata": {
        "id": "SKTSvNdsQAdC"
      },
      "source": [
        "#we can remove the $ infront of the price and treat it as quatitative variable\r\n",
        "#also remove the ,s in the price to convert it to float later\r\n",
        "smaller_listings['price'] = smaller_listings['price'].map(lambda val: val.replace(\"$\",'').replace(\",\",''), na_action = 'ignore')\r\n",
        "smaller_listings = smaller_listings.astype({'price': 'float64'})"
      ],
      "execution_count": 13,
      "outputs": []
    },
    {
      "cell_type": "code",
      "metadata": {
        "colab": {
          "base_uri": "https://localhost:8080/"
        },
        "id": "WgbKZNYgFgGM",
        "outputId": "d8c9da15-3253-4762-b3be-dcfd3a719144"
      },
      "source": [
        "smaller_listings['price']"
      ],
      "execution_count": 14,
      "outputs": [
        {
          "output_type": "execute_result",
          "data": {
            "text/plain": [
              "0       250.0\n",
              "1        65.0\n",
              "2        65.0\n",
              "3        75.0\n",
              "4        79.0\n",
              "        ...  \n",
              "3580     69.0\n",
              "3581    150.0\n",
              "3582    198.0\n",
              "3583     65.0\n",
              "3584     65.0\n",
              "Name: price, Length: 3585, dtype: float64"
            ]
          },
          "metadata": {
            "tags": []
          },
          "execution_count": 14
        }
      ]
    },
    {
      "cell_type": "code",
      "metadata": {
        "colab": {
          "base_uri": "https://localhost:8080/",
          "height": 265
        },
        "id": "Gpa6EeOmDv2F",
        "outputId": "563711e8-fd2b-4580-9cd7-493512a76135"
      },
      "source": [
        "#histogram of price\r\n",
        "ax = smaller_listings['price'].plot.hist(bins=20,alpha=0.5)"
      ],
      "execution_count": 15,
      "outputs": [
        {
          "output_type": "display_data",
          "data": {
            "image/png": "[encoded data removed]",
            "text/plain": [
              "<Figure size 432x288 with 1 Axes>"
            ]
          },
          "metadata": {
            "tags": [],
            "needs_background": "light"
          }
        }
      ]
    },
    {
      "cell_type": "markdown",
      "metadata": {
        "id": "-lz1miOAEItH"
      },
      "source": [
        "We notice that there are extreme outliers that are not frequent, so it's better to remover these\r\n"
      ]
    },
    {
      "cell_type": "code",
      "metadata": {
        "colab": {
          "base_uri": "https://localhost:8080/"
        },
        "id": "rjrhct9PCoVF",
        "outputId": "33f4756f-5ba5-4148-ce1a-63d205fc5f7f"
      },
      "source": [
        "print(smaller_listings.describe().price)\r\n",
        "#drop prices not between the 5-95% quantile\r\n",
        "len_before = len(smaller_listings)\r\n",
        "smaller_listings = smaller_listings[smaller_listings['price'].between(smaller_listings['price'].quantile(.05), smaller_listings['price'].quantile(.95))]\r\n",
        "len_after = len(smaller_listings)\r\n",
        "print(smaller_listings.describe().price)\r\n",
        "print(\"we dropped \"+str(len_before-len_after)+\" rows\")"
      ],
      "execution_count": 16,
      "outputs": [
        {
          "output_type": "stream",
          "text": [
            "count    3585.000000\n",
            "mean      173.925802\n",
            "std       148.331321\n",
            "min        10.000000\n",
            "25%        85.000000\n",
            "50%       150.000000\n",
            "75%       220.000000\n",
            "max      4000.000000\n",
            "Name: price, dtype: float64\n",
            "count    3232.000000\n",
            "mean      159.166460\n",
            "std        79.901999\n",
            "min        50.000000\n",
            "25%        90.000000\n",
            "50%       150.000000\n",
            "75%       208.000000\n",
            "max       375.000000\n",
            "Name: price, dtype: float64\n",
            "we dropped 353 rows\n"
          ],
          "name": "stdout"
        }
      ]
    },
    {
      "cell_type": "code",
      "metadata": {
        "colab": {
          "base_uri": "https://localhost:8080/",
          "height": 265
        },
        "id": "FxpOmW-aEjEV",
        "outputId": "7e3861e0-6988-42ab-d955-c2f9611e7280"
      },
      "source": [
        "#histogram of price\r\n",
        "ax = smaller_listings['price'].plot.hist(bins=20,alpha=0.5)"
      ],
      "execution_count": 17,
      "outputs": [
        {
          "output_type": "display_data",
          "data": {
            "image/png": "[encoded data removed]",
            "text/plain": [
              "<Figure size 432x288 with 1 Axes>"
            ]
          },
          "metadata": {
            "tags": [],
            "needs_background": "light"
          }
        }
      ]
    },
    {
      "cell_type": "markdown",
      "metadata": {
        "id": "DLZh5sk02Rox"
      },
      "source": [
        "Separate Quantitiative and Catagorical variables"
      ]
    },
    {
      "cell_type": "code",
      "metadata": {
        "id": "iKLGWWqcbjFF"
      },
      "source": [
        "#separate listings features into categorical and quantitative\r\n",
        "cat_df = smaller_listings.select_dtypes(include=['object'])\r\n",
        "quant_df = smaller_listings.select_dtypes(include=['float64','int64'])"
      ],
      "execution_count": 18,
      "outputs": []
    },
    {
      "cell_type": "code",
      "metadata": {
        "colab": {
          "base_uri": "https://localhost:8080/"
        },
        "id": "3nME-kHYcIYp",
        "outputId": "8103f0f8-d25b-4f00-b774-00f9dfb21122"
      },
      "source": [
        "#also host_response_rate\tand host_acceptance_rate have % after them\r\n",
        "quant_df['host_response_rate'] = cat_df['host_response_rate'].apply(lambda val: val[0:-1] if isinstance(val, float)==False else np.nan)\r\n",
        "quant_df = quant_df.astype({'host_response_rate': 'float64'})\r\n",
        "cat_df = cat_df.drop(['host_response_rate'],axis = 1)"
      ],
      "execution_count": 19,
      "outputs": [
        {
          "output_type": "stream",
          "text": [
            "/usr/local/lib/python3.6/dist-packages/ipykernel_launcher.py:2: SettingWithCopyWarning: \n",
            "A value is trying to be set on a copy of a slice from a DataFrame.\n",
            "Try using .loc[row_indexer,col_indexer] = value instead\n",
            "\n",
            "See the caveats in the documentation: https://pandas.pydata.org/pandas-docs/stable/user_guide/indexing.html#returning-a-view-versus-a-copy\n",
            "  \n"
          ],
          "name": "stderr"
        }
      ]
    },
    {
      "cell_type": "code",
      "metadata": {
        "id": "bgiISDwd2f-H"
      },
      "source": [
        "#same for host acceptance rate\r\n",
        "quant_df['host_acceptance_rate'] = cat_df['host_acceptance_rate'].apply(lambda val: val[0:-1] if isinstance(val, float)==False else np.nan)\r\n",
        "quant_df = quant_df.astype({'host_acceptance_rate': 'float64'})\r\n",
        "cat_df = cat_df.drop(['host_acceptance_rate'],axis = 1)"
      ],
      "execution_count": 20,
      "outputs": []
    },
    {
      "cell_type": "code",
      "metadata": {
        "id": "FVNUfly6T94K"
      },
      "source": [
        "# for the host_since variable, I want to calculate the number of years instead of using a date \r\n",
        "# and change that to be a quantitative variable too\r\n",
        "cat_df['host_since'] =  pd.to_datetime(cat_df['host_since'], format='%Y-%m-%d')\r\n",
        "quant_df['host_since_days'] = cat_df['host_since'].apply(lambda val: (date(2021,1,7)-date(val.year,val.month,val.day)).days if val else NaN)\r\n",
        "cat_df = cat_df.drop(['host_since'], axis = 1)"
      ],
      "execution_count": 21,
      "outputs": []
    },
    {
      "cell_type": "code",
      "metadata": {
        "id": "RlO6kyY9cXwW"
      },
      "source": [
        "#some coloumns have t,f for true and false, and I want to change them to boolean\r\n",
        "for col in cat_df:\r\n",
        "    if(len(cat_df[col].unique())<=3):\r\n",
        "      unique_vals = sorted(cat_df[col].unique())\r\n",
        "      if unique_vals[0] == 'f':\r\n",
        "        cat_df[col] = cat_df[col].apply(lambda val: True if val=='t' else False)\r\n"
      ],
      "execution_count": 22,
      "outputs": []
    },
    {
      "cell_type": "code",
      "metadata": {
        "colab": {
          "base_uri": "https://localhost:8080/"
        },
        "id": "-ROpkiJU9RP2",
        "outputId": "d7ab3c3f-720e-468f-95a5-a33fce3e8971"
      },
      "source": [
        "cat_df.columns"
      ],
      "execution_count": 23,
      "outputs": [
        {
          "output_type": "execute_result",
          "data": {
            "text/plain": [
              "Index(['host_response_time', 'host_is_superhost', 'host_has_profile_pic',\n",
              "       'host_identity_verified', 'neighbourhood', 'property_type', 'room_type',\n",
              "       'bed_type', 'amenities', 'instant_bookable', 'cancellation_policy',\n",
              "       'require_guest_profile_picture', 'require_guest_phone_verification'],\n",
              "      dtype='object')"
            ]
          },
          "metadata": {
            "tags": []
          },
          "execution_count": 23
        }
      ]
    },
    {
      "cell_type": "code",
      "metadata": {
        "id": "mb8-JQfj8vdX"
      },
      "source": [
        "#change amenities to be amenties count instead\r\n",
        "quant_df['amenities_count'] = cat_df.amenities.str.count(',')+1\r\n",
        "cat_df = cat_df.drop('amenities', axis=1)"
      ],
      "execution_count": 24,
      "outputs": []
    },
    {
      "cell_type": "code",
      "metadata": {
        "colab": {
          "base_uri": "https://localhost:8080/"
        },
        "id": "do9XkSWL_t40",
        "outputId": "5ea18936-f590-44b5-bc36-91a23c07dbf3"
      },
      "source": [
        "#reorganize the coloumns\r\n",
        "quant_cols = quant_df.columns.tolist()\r\n",
        "quant_cols = quant_cols[-5:] + quant_cols[:-5]\r\n",
        "print(quant_cols)\r\n",
        "quant_df = quant_df[quant_cols]"
      ],
      "execution_count": 29,
      "outputs": [
        {
          "output_type": "stream",
          "text": [
            "['guests_included', 'minimum_nights', 'maximum_nights', 'number_of_reviews', 'review_scores_value', 'host_response_rate', 'host_acceptance_rate', 'host_since_days', 'amenities_count', 'host_total_listings_count', 'accommodates', 'bathrooms', 'bedrooms', 'beds', 'price']\n"
          ],
          "name": "stdout"
        }
      ]
    },
    {
      "cell_type": "markdown",
      "metadata": {
        "id": "kymYl7w-2-vQ"
      },
      "source": [
        "Some EDA "
      ]
    },
    {
      "cell_type": "code",
      "metadata": {
        "colab": {
          "base_uri": "https://localhost:8080/",
          "height": 943
        },
        "id": "Qpty1T7H-CeG",
        "outputId": "f4d7668a-2e15-45c5-f3a5-29297a2c1b07"
      },
      "source": [
        "# with the quantitative variables plot a heat map to identify how are variable correlated\r\n",
        "fig, ax = plt.subplots(figsize=(14,14))         # Sample figsize in inches\r\n",
        "sns.heatmap(quant_df.corr(),annot=True,fmt=\".2f\",linewidths=.5, ax=ax)"
      ],
      "execution_count": 30,
      "outputs": [
        {
          "output_type": "execute_result",
          "data": {
            "text/plain": [
              "<matplotlib.axes._subplots.AxesSubplot at 0x7f292a45c320>"
            ]
          },
          "metadata": {
            "tags": []
          },
          "execution_count": 30
        },
        {
          "output_type": "display_data",
          "data": {
            "image/png": "[encoded data removed]",
            "text/plain": [
              "<Figure size 1008x1008 with 2 Axes>"
            ]
          },
          "metadata": {
            "tags": [],
            "needs_background": "light"
          }
        }
      ]
    },
    {
      "cell_type": "markdown",
      "metadata": {
        "id": "8IORgb0BAl2F"
      },
      "source": [
        "We see some positive correlation between 'accommodates', 'bedrooms', 'beds' and price. Also, there is some positive correlation between 'amenities_count','host_total_listings_count','bathrooms', 'guests_included' and price."
      ]
    },
    {
      "cell_type": "code",
      "metadata": {
        "colab": {
          "base_uri": "https://localhost:8080/",
          "height": 422
        },
        "id": "FBbYl6zJp-IN",
        "outputId": "388b0915-69f9-4221-f0ea-4999cbdcd247"
      },
      "source": [
        "#average neighbourhood prices\r\n",
        "neighbourhood_df = pd.DataFrame({'neighbourhood':cat_df['neighbourhood'],'price':quant_df['price']})\r\n",
        "average_price_in_neighbourhood = neighbourhood_df.groupby('neighbourhood').mean().reset_index()\r\n",
        "average_price_in_neighbourhood = average_price_in_neighbourhood.sort_values(by=['price'])\r\n",
        "orderd_neighbourhoods = average_price_in_neighbourhood['neighbourhood'] #to be used in next cell\r\n",
        "plt.figure(1,(10,5))\r\n",
        "plt.bar(average_price_in_neighbourhood['neighbourhood'],average_price_in_neighbourhood['price'],width = 0.5);\r\n",
        "plt.xlabel(\"Neighbourhood\")\r\n",
        "plt.ylabel(\"Average Price\")\r\n",
        "plt.xticks(rotation=90);\r\n"
      ],
      "execution_count": 27,
      "outputs": [
        {
          "output_type": "display_data",
          "data": {
            "image/png": "[encoded data removed]",
            "text/plain": [
              "<Figure size 720x360 with 1 Axes>"
            ]
          },
          "metadata": {
            "tags": [],
            "needs_background": "light"
          }
        }
      ]
    },
    {
      "cell_type": "code",
      "metadata": {
        "colab": {
          "base_uri": "https://localhost:8080/",
          "height": 422
        },
        "id": "WSU5nKhGEtqz",
        "outputId": "63c96515-3b69-47e6-a7bf-a7d6d390c2eb"
      },
      "source": [
        "#Do they neighbourhood offer larger rooms, study between the relationship of room_type and neighbourhood\r\n",
        "neighbourhood_roomtype_df = pd.DataFrame({'neighbourhood':cat_df['neighbourhood'],\r\n",
        "                                          'room_type':cat_df['room_type'],'price':quant_df['price']})\r\n",
        "neighbourhood_roomtype_df = neighbourhood_roomtype_df.sort_values(by=['price'])\r\n",
        "average_price_neighbour_rmtype = neighbourhood_roomtype_df.groupby(['neighbourhood','room_type']).mean().reset_index()\r\n",
        "\r\n",
        "# set width of bar\r\n",
        "barWidth = 0.25\r\n",
        "bars = []\r\n",
        "labels = average_price_neighbour_rmtype['room_type'].unique()\r\n",
        "# set height of bar\r\n",
        "neighbourhoods = average_price_neighbour_rmtype['neighbourhood'].unique()\r\n",
        "i_s = len(neighbourhoods)\r\n",
        "j_s = len(labels)\r\n",
        "bars = np.ones((j_s,i_s))\r\n",
        "for i,neighbourhood in enumerate(orderd_neighbourhoods):\r\n",
        "  subset = average_price_neighbour_rmtype[average_price_neighbour_rmtype['neighbourhood'] == neighbourhood]\r\n",
        "  for j,rm_type in enumerate(average_price_neighbour_rmtype['room_type'].unique()):\r\n",
        "    #print(list(subset['room_type']))\r\n",
        "    if(rm_type in list(subset['room_type'])):\r\n",
        "      bars[j][i] = subset[subset['room_type']==rm_type]['price']\r\n",
        "    else:\r\n",
        "      bars[j][i] = 0\r\n",
        "    \r\n",
        "\r\n",
        "# Set position of bar on X axis\r\n",
        "rs = np.ones((len(labels),len(bars[0])))\r\n",
        "rs[0,:] = np.arange(len(bars[0]))\r\n",
        "plt.figure(3,(10,5))\r\n",
        "for i in range(1,len(labels)):\r\n",
        "  rs[i,:] = [x + barWidth for x in rs[i-1,:]]\r\n",
        "colors = ['r','g','b']\r\n",
        "for i in range(0,len(labels)):\r\n",
        "  plt.bar(rs[i,:], bars[i], color=colors[i], width=barWidth, edgecolor='white', label=labels[i])\r\n",
        "\r\n",
        "# Add xticks on the middle of the group bars\r\n",
        "plt.xlabel('neighbourhood', fontweight='bold')\r\n",
        "plt.xticks([r + barWidth for r in range(len(bars[0]))],list(orderd_neighbourhoods))\r\n",
        " \r\n",
        "# Create legend & Show graphic\r\n",
        "plt.legend()\r\n",
        "plt.xticks(rotation=90);\r\n",
        "plt.show()\r\n",
        "\r\n",
        "#if we were to arrange them by entire home/private room/ etc. we would get a different plot than before"
      ],
      "execution_count": 31,
      "outputs": [
        {
          "output_type": "display_data",
          "data": {
            "image/png": "[encoded data removed]",
            "text/plain": [
              "<Figure size 720x360 with 1 Axes>"
            ]
          },
          "metadata": {
            "tags": [],
            "needs_background": "light"
          }
        }
      ]
    },
    {
      "cell_type": "code",
      "metadata": {
        "id": "Sogx1hj_PoFP"
      },
      "source": [
        "cat_df.head()"
      ],
      "execution_count": null,
      "outputs": []
    },
    {
      "cell_type": "code",
      "metadata": {
        "id": "HLOTSaqmO_av"
      },
      "source": [
        "quant_df.head()"
      ],
      "execution_count": null,
      "outputs": []
    },
    {
      "cell_type": "code",
      "metadata": {
        "id": "wHmiq3qgQR9k"
      },
      "source": [
        "#which part of the review affect your overall review the most!\r\n",
        "#review, space, neighbourhood and price (how are they all related)\r\n",
        "#new airbnb people, how much to charge for your room, based on space, neighbourhood and other factors"
      ],
      "execution_count": null,
      "outputs": []
    },
    {
      "cell_type": "code",
      "metadata": {
        "colab": {
          "base_uri": "https://localhost:8080/"
        },
        "id": "wIQFuaQ83O2q",
        "outputId": "10f64851-803a-4097-9e67-8b87aad50ff5"
      },
      "source": [
        "#checking whether I can change variables into onehot encoded depending on how many unique values are there\r\n",
        "# in each coloumn\r\n",
        "sum_total_unique_vals = 0\r\n",
        "for col in cat_df:\r\n",
        "  print(col)\r\n",
        "  unique_col_vals = cat_df[col].unique()\r\n",
        "  print(len(unique_col_vals))\r\n",
        "  print(unique_col_vals)\r\n",
        "  sum_total_unique_vals+=len(unique_col_vals)\r\n",
        "print(sum_total_unique_vals)\r\n",
        "#cat_df['host_response_time'].unique()\r\n",
        "# a total of 74 unique value,\r\n"
      ],
      "execution_count": 32,
      "outputs": [
        {
          "output_type": "stream",
          "text": [
            "host_response_time\n",
            "5\n",
            "[nan 'within an hour' 'within a few hours' 'within a day'\n",
            " 'a few days or more']\n",
            "host_is_superhost\n",
            "2\n",
            "[False  True]\n",
            "host_has_profile_pic\n",
            "2\n",
            "[ True False]\n",
            "host_identity_verified\n",
            "2\n",
            "[False  True]\n",
            "neighbourhood\n",
            "31\n",
            "['Roslindale' nan 'Jamaica Plain' 'Mission Hill' 'Fenway/Kenmore'\n",
            " 'Back Bay' 'Leather District' 'Chinatown' 'Hyde Park' 'North End'\n",
            " 'Roxbury' 'South End' 'Mattapan' 'East Boston' 'South Boston'\n",
            " 'Charlestown' 'West End' 'Beacon Hill' 'Theater District'\n",
            " 'Downtown Crossing' 'Downtown' 'Financial District' 'Government Center'\n",
            " 'Allston-Brighton' 'West Roxbury' 'Chestnut Hill' 'Dorchester'\n",
            " 'Brookline' 'Cambridge' 'Somerville' 'Harvard Square']\n",
            "property_type\n",
            "14\n",
            "['House' 'Apartment' 'Condominium' 'Bed & Breakfast' 'Townhouse'\n",
            " 'Entire Floor' 'Loft' 'Guesthouse' 'Boat' 'Dorm' nan 'Other' 'Camper/RV'\n",
            " 'Villa']\n",
            "room_type\n",
            "3\n",
            "['Entire home/apt' 'Private room' 'Shared room']\n",
            "bed_type\n",
            "5\n",
            "['Real Bed' 'Pull-out Sofa' 'Futon' 'Airbed' 'Couch']\n",
            "instant_bookable\n",
            "2\n",
            "[False  True]\n",
            "cancellation_policy\n",
            "4\n",
            "['moderate' 'flexible' 'strict' 'super_strict_30']\n",
            "require_guest_profile_picture\n",
            "2\n",
            "[False  True]\n",
            "require_guest_phone_verification\n",
            "2\n",
            "[False  True]\n",
            "74\n"
          ],
          "name": "stdout"
        }
      ]
    },
    {
      "cell_type": "code",
      "metadata": {
        "id": "D3wNefNO3bWe"
      },
      "source": [
        "cat_df_with_dummies = pd.get_dummies(cat_df,dummy_na=True)"
      ],
      "execution_count": 33,
      "outputs": []
    },
    {
      "cell_type": "code",
      "metadata": {
        "colab": {
          "base_uri": "https://localhost:8080/"
        },
        "id": "0D-6AmDg3uIr",
        "outputId": "542fd006-7aaa-4f0e-a278-f91791d278f9"
      },
      "source": [
        "cat_df_with_dummies.info()"
      ],
      "execution_count": 34,
      "outputs": [
        {
          "output_type": "stream",
          "text": [
            "<class 'pandas.core.frame.DataFrame'>\n",
            "Int64Index: 3232 entries, 0 to 3584\n",
            "Data columns (total 71 columns):\n",
            " #   Column                                 Non-Null Count  Dtype\n",
            "---  ------                                 --------------  -----\n",
            " 0   host_is_superhost                      3232 non-null   bool \n",
            " 1   host_has_profile_pic                   3232 non-null   bool \n",
            " 2   host_identity_verified                 3232 non-null   bool \n",
            " 3   instant_bookable                       3232 non-null   bool \n",
            " 4   require_guest_profile_picture          3232 non-null   bool \n",
            " 5   require_guest_phone_verification       3232 non-null   bool \n",
            " 6   host_response_time_a few days or more  3232 non-null   uint8\n",
            " 7   host_response_time_within a day        3232 non-null   uint8\n",
            " 8   host_response_time_within a few hours  3232 non-null   uint8\n",
            " 9   host_response_time_within an hour      3232 non-null   uint8\n",
            " 10  host_response_time_nan                 3232 non-null   uint8\n",
            " 11  neighbourhood_Allston-Brighton         3232 non-null   uint8\n",
            " 12  neighbourhood_Back Bay                 3232 non-null   uint8\n",
            " 13  neighbourhood_Beacon Hill              3232 non-null   uint8\n",
            " 14  neighbourhood_Brookline                3232 non-null   uint8\n",
            " 15  neighbourhood_Cambridge                3232 non-null   uint8\n",
            " 16  neighbourhood_Charlestown              3232 non-null   uint8\n",
            " 17  neighbourhood_Chestnut Hill            3232 non-null   uint8\n",
            " 18  neighbourhood_Chinatown                3232 non-null   uint8\n",
            " 19  neighbourhood_Dorchester               3232 non-null   uint8\n",
            " 20  neighbourhood_Downtown                 3232 non-null   uint8\n",
            " 21  neighbourhood_Downtown Crossing        3232 non-null   uint8\n",
            " 22  neighbourhood_East Boston              3232 non-null   uint8\n",
            " 23  neighbourhood_Fenway/Kenmore           3232 non-null   uint8\n",
            " 24  neighbourhood_Financial District       3232 non-null   uint8\n",
            " 25  neighbourhood_Government Center        3232 non-null   uint8\n",
            " 26  neighbourhood_Harvard Square           3232 non-null   uint8\n",
            " 27  neighbourhood_Hyde Park                3232 non-null   uint8\n",
            " 28  neighbourhood_Jamaica Plain            3232 non-null   uint8\n",
            " 29  neighbourhood_Leather District         3232 non-null   uint8\n",
            " 30  neighbourhood_Mattapan                 3232 non-null   uint8\n",
            " 31  neighbourhood_Mission Hill             3232 non-null   uint8\n",
            " 32  neighbourhood_North End                3232 non-null   uint8\n",
            " 33  neighbourhood_Roslindale               3232 non-null   uint8\n",
            " 34  neighbourhood_Roxbury                  3232 non-null   uint8\n",
            " 35  neighbourhood_Somerville               3232 non-null   uint8\n",
            " 36  neighbourhood_South Boston             3232 non-null   uint8\n",
            " 37  neighbourhood_South End                3232 non-null   uint8\n",
            " 38  neighbourhood_Theater District         3232 non-null   uint8\n",
            " 39  neighbourhood_West End                 3232 non-null   uint8\n",
            " 40  neighbourhood_West Roxbury             3232 non-null   uint8\n",
            " 41  neighbourhood_nan                      3232 non-null   uint8\n",
            " 42  property_type_Apartment                3232 non-null   uint8\n",
            " 43  property_type_Bed & Breakfast          3232 non-null   uint8\n",
            " 44  property_type_Boat                     3232 non-null   uint8\n",
            " 45  property_type_Camper/RV                3232 non-null   uint8\n",
            " 46  property_type_Condominium              3232 non-null   uint8\n",
            " 47  property_type_Dorm                     3232 non-null   uint8\n",
            " 48  property_type_Entire Floor             3232 non-null   uint8\n",
            " 49  property_type_Guesthouse               3232 non-null   uint8\n",
            " 50  property_type_House                    3232 non-null   uint8\n",
            " 51  property_type_Loft                     3232 non-null   uint8\n",
            " 52  property_type_Other                    3232 non-null   uint8\n",
            " 53  property_type_Townhouse                3232 non-null   uint8\n",
            " 54  property_type_Villa                    3232 non-null   uint8\n",
            " 55  property_type_nan                      3232 non-null   uint8\n",
            " 56  room_type_Entire home/apt              3232 non-null   uint8\n",
            " 57  room_type_Private room                 3232 non-null   uint8\n",
            " 58  room_type_Shared room                  3232 non-null   uint8\n",
            " 59  room_type_nan                          3232 non-null   uint8\n",
            " 60  bed_type_Airbed                        3232 non-null   uint8\n",
            " 61  bed_type_Couch                         3232 non-null   uint8\n",
            " 62  bed_type_Futon                         3232 non-null   uint8\n",
            " 63  bed_type_Pull-out Sofa                 3232 non-null   uint8\n",
            " 64  bed_type_Real Bed                      3232 non-null   uint8\n",
            " 65  bed_type_nan                           3232 non-null   uint8\n",
            " 66  cancellation_policy_flexible           3232 non-null   uint8\n",
            " 67  cancellation_policy_moderate           3232 non-null   uint8\n",
            " 68  cancellation_policy_strict             3232 non-null   uint8\n",
            " 69  cancellation_policy_super_strict_30    3232 non-null   uint8\n",
            " 70  cancellation_policy_nan                3232 non-null   uint8\n",
            "dtypes: bool(6), uint8(65)\n",
            "memory usage: 249.3 KB\n"
          ],
          "name": "stdout"
        }
      ]
    },
    {
      "cell_type": "code",
      "metadata": {
        "id": "NB9HFdWB4ecg"
      },
      "source": [
        "all_data = pd.merge(cat_df_with_dummies,quant_df, left_index=True, right_index=True)"
      ],
      "execution_count": 35,
      "outputs": []
    },
    {
      "cell_type": "code",
      "metadata": {
        "colab": {
          "base_uri": "https://localhost:8080/"
        },
        "id": "v1Ilzh2m54MK",
        "outputId": "60b7e42b-4baf-4186-e751-dbb7b312314f"
      },
      "source": [
        "n,d = len(all_data), len(all_data.columns)\r\n",
        "print(n)\r\n",
        "print(d)"
      ],
      "execution_count": 36,
      "outputs": [
        {
          "output_type": "stream",
          "text": [
            "3232\n",
            "86\n"
          ],
          "name": "stdout"
        }
      ]
    },
    {
      "cell_type": "code",
      "metadata": {
        "id": "hP6AQTj27K9C"
      },
      "source": [
        "def ridge_reg_training(X,y,alphas,random_seed,n_splits):\r\n",
        "  np.random.seed(random_seed)\r\n",
        "  random_ints =  np.random.randint(low=0,high=100,size=n_splits)\r\n",
        "  avg_acc_scores = []\r\n",
        "  avg_rss = []\r\n",
        "  avg_diff = []\r\n",
        "  for alpha in alphas:\r\n",
        "    total_acc_score = 0\r\n",
        "    rss = 0\r\n",
        "    diff = 0\r\n",
        "    for rand_int in random_ints:\r\n",
        "      X_train, X_test, y_train, y_test = train_test_split(X, y, test_size=0.3, random_state=rand_int)\r\n",
        "      clf = Ridge(alpha=alpha).fit(X_train,y_train)\r\n",
        "      #clf = LogisticRegression(random_state=random_seed, C=C, max_iter=200,penalty=penality,solver=solver).fit(X_train, y_train)\r\n",
        "      y_pred = clf.predict(X_test)\r\n",
        "      abs_diff = np.abs(y_pred-y_test)\r\n",
        "      diff += sum((abs_diff/y_test)*100)\r\n",
        "      rss += sum((y_pred-y_test)**2)\r\n",
        "      total_acc_score += clf.score(X_test, y_test)\r\n",
        "    avg_acc_score = total_acc_score/n_splits\r\n",
        "    avg_acc_scores.append(avg_acc_score)\r\n",
        "    avg_rss.append(rss/n_splits)\r\n",
        "    avg_diff.append(diff/n_splits)\r\n",
        "    data = {'y_pred':y_pred, 'y_true': y_test, 'diff': abs_diff , 'percentage': (abs_diff/y_test)*100}\r\n",
        "    data_df = pd.DataFrame(data)\r\n",
        "    print(data_df.head())\r\n",
        "  return avg_acc_scores,avg_rss,avg_diff\r\n"
      ],
      "execution_count": 37,
      "outputs": []
    },
    {
      "cell_type": "code",
      "metadata": {
        "id": "q9rnTQTCc-mD"
      },
      "source": [
        "def plot_r2_vs_alphas(avg_r2_scores,alphas):\r\n",
        "  plt.figure()\r\n",
        "  plt.plot(alphas,avg_r2_scores)\r\n",
        "  plt.xlabel(\"Alpha Values\")\r\n",
        "  plt.ylabel(\"Average Scores\")\r\n",
        "  "
      ],
      "execution_count": 38,
      "outputs": []
    },
    {
      "cell_type": "code",
      "metadata": {
        "colab": {
          "base_uri": "https://localhost:8080/",
          "height": 1000
        },
        "id": "18t1kon66TW3",
        "outputId": "e0320205-c487-4745-bdac-b40a0baabea0"
      },
      "source": [
        "print(len(all_data))\r\n",
        "all_data_no_na = all_data.dropna(axis=0,how='any')\r\n",
        "print(len(all_data_no_na))\r\n",
        "y = all_data_no_na['price']\r\n",
        "X = all_data_no_na.drop(columns=['price'])\r\n",
        "alphas = [0.001, 0.1, 1, 10, 100, 1000, 10000]\r\n",
        "random_seed = 42\r\n",
        "n_splits = 1\r\n",
        "avg_r2_scores, avg_rss, avg_diff = ridge_reg_training(X,y,alphas,random_seed,n_splits)\r\n",
        "print(avg_r2_scores)\r\n",
        "print(avg_rss)\r\n",
        "print(avg_diff)\r\n",
        "plot_r2_vs_alphas(avg_r2_scores,alphas)\r\n",
        "plot_r2_vs_alphas(avg_rss,alphas)\r\n",
        "plot_r2_vs_alphas(avg_diff,alphas)"
      ],
      "execution_count": 39,
      "outputs": [
        {
          "output_type": "stream",
          "text": [
            "3232\n",
            "2314\n",
            "          y_pred  y_true       diff  percentage\n",
            "2371  194.492487   190.0   4.492487    2.364467\n",
            "3000   86.631092    60.0  26.631092   44.385153\n",
            "2354  193.065332   238.0  44.934668   18.880112\n",
            "1260  369.705288   342.0  27.705288    8.100962\n",
            "2634  239.976169   250.0  10.023831    4.009532\n"
          ],
          "name": "stdout"
        },
        {
          "output_type": "stream",
          "text": [
            "/usr/local/lib/python3.6/dist-packages/sklearn/linear_model/_ridge.py:148: LinAlgWarning: Ill-conditioned matrix (rcond=1.00042e-19): result may not be accurate.\n",
            "  overwrite_a=True).T\n",
            "/usr/local/lib/python3.6/dist-packages/sklearn/linear_model/_ridge.py:148: LinAlgWarning: Ill-conditioned matrix (rcond=9.81921e-18): result may not be accurate.\n",
            "  overwrite_a=True).T\n",
            "/usr/local/lib/python3.6/dist-packages/sklearn/linear_model/_ridge.py:148: LinAlgWarning: Ill-conditioned matrix (rcond=9.06246e-17): result may not be accurate.\n",
            "  overwrite_a=True).T\n"
          ],
          "name": "stderr"
        },
        {
          "output_type": "stream",
          "text": [
            "          y_pred  y_true       diff  percentage\n",
            "2371  194.529218   190.0   4.529218    2.383799\n",
            "3000   86.610452    60.0  26.610452   44.350754\n",
            "2354  193.075318   238.0  44.924682   18.875917\n",
            "1260  369.521148   342.0  27.521148    8.047119\n",
            "2634  239.896071   250.0  10.103929    4.041572\n",
            "          y_pred  y_true       diff  percentage\n",
            "2371  194.771667   190.0   4.771667    2.511404\n",
            "3000   86.583427    60.0  26.583427   44.305711\n",
            "2354  192.992111   238.0  45.007889   18.910878\n",
            "1260  368.140685   342.0  26.140685    7.643475\n",
            "2634  239.441237   250.0  10.558763    4.223505\n",
            "          y_pred  y_true       diff  percentage\n",
            "2371  195.336634   190.0   5.336634    2.808755\n",
            "3000   87.344812    60.0  27.344812   45.574687\n",
            "2354  191.114272   238.0  46.885728   19.699886\n",
            "1260  358.088206   342.0  16.088206    4.704154\n",
            "2634  237.662631   250.0  12.337369    4.934947\n",
            "          y_pred  y_true       diff  percentage\n",
            "2371  196.108634   190.0   6.108634    3.215070\n",
            "3000   92.104480    60.0  32.104480   53.507466\n",
            "2354  183.567811   238.0  54.432189   22.870668\n",
            "1260  322.786745   342.0  19.213255    5.617911\n",
            "2634  226.139990   250.0  23.860010    9.544004\n",
            "          y_pred  y_true       diff  percentage\n",
            "2371  195.146293   190.0   5.146293    2.708575\n",
            "3000  108.254375    60.0  48.254375   80.423959\n",
            "2354  167.550356   238.0  70.449644   29.600691\n",
            "1260  288.613528   342.0  53.386472   15.610080\n",
            "2634  201.023690   250.0  48.976310   19.590524\n",
            "          y_pred  y_true       diff  percentage\n",
            "2371  189.191064   190.0   0.808936    0.425756\n",
            "3000  136.110129    60.0  76.110129  126.850216\n",
            "2354  158.965993   238.0  79.034007   33.207566\n",
            "1260  262.706492   342.0  79.293508   23.185236\n",
            "2634  164.179774   250.0  85.820226   34.328090\n",
            "[0.6950224267516947, 0.6954305377631305, 0.695141219877967, 0.686148337347495, 0.647662696876177, 0.5366206072722035, 0.3812885033336999]\n",
            "[1400193.9966759805, 1398320.302875799, 1399648.6010900666, 1440936.1620010699, 1617629.0321430177, 2127438.5423500272, 2840589.6016532118]\n",
            "[16610.966642858606, 16603.0079386952, 16629.13483497337, 16920.162099580397, 18483.020174475794, 23477.386045364117, 29841.453037125462]\n"
          ],
          "name": "stdout"
        },
        {
          "output_type": "display_data",
          "data": {
            "image/png": "[encoded data removed]",
            "text/plain": [
              "<Figure size 432x288 with 1 Axes>"
            ]
          },
          "metadata": {
            "tags": [],
            "needs_background": "light"
          }
        },
        {
          "output_type": "display_data",
          "data": {
            "image/png": "[encoded data removed]",
            "text/plain": [
              "<Figure size 432x288 with 1 Axes>"
            ]
          },
          "metadata": {
            "tags": [],
            "needs_background": "light"
          }
        },
        {
          "output_type": "display_data",
          "data": {
            "image/png": "[encoded data removed]",
            "text/plain": [
              "<Figure size 432x288 with 1 Axes>"
            ]
          },
          "metadata": {
            "tags": [],
            "needs_background": "light"
          }
        }
      ]
    },
    {
      "cell_type": "code",
      "metadata": {
        "colab": {
          "base_uri": "https://localhost:8080/"
        },
        "id": "XLiODc5Fr3MF",
        "outputId": "aa852a1c-b5e7-4e2c-8059-a19d74b2a8a6"
      },
      "source": [
        "X_train, X_test, y_train, y_test = train_test_split(X, y, test_size=0.3, random_state=42)\r\n",
        "X_train = X\r\n",
        "y_train = y\r\n",
        "X_test = X\r\n",
        "y_test = y\r\n",
        "clf = Ridge(alpha=10000).fit(X_train,y_train)\r\n",
        "#clf = LogisticRegression(random_state=random_seed, C=C, max_iter=200,penalty=penality,solver=solver).fit(X_train, y_train)\r\n",
        "y_pred = clf.predict(X_test)\r\n",
        "abs_diff = np.abs(y_pred-y_test)\r\n",
        "data = {'y_pred':y_pred, 'y_true': y_test, 'diff': abs_diff , 'percentage': (abs_diff/y_test)*100}\r\n",
        "data_df = pd.DataFrame(data)\r\n",
        "print(data_df.head())\r\n",
        "print(sum(data_df['percentage'])/len(y_test))"
      ],
      "execution_count": 42,
      "outputs": [
        {
          "output_type": "stream",
          "text": [
            "       y_pred  y_true        diff  percentage\n",
            "1  146.216927    65.0   81.216927  124.949119\n",
            "2  155.854384    65.0   90.854384  139.775975\n",
            "3  191.872992    75.0  116.872992  155.830656\n",
            "4  126.164372    79.0   47.164372   59.701737\n",
            "5  121.712593    75.0   46.712593   62.283457\n",
            "40.94592279657058\n"
          ],
          "name": "stdout"
        }
      ]
    }
  ]
}